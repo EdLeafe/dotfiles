{
 "cells": [
  {
   "cell_type": "code",
   "execution_count": 1,
   "id": "563c0367",
   "metadata": {},
   "outputs": [],
   "source": [
    "from pprint import pprint\n",
    "import ngcsdk\n",
    "clt = ngcsdk.create_client()\n",
    "bc = clt.base_command"
   ]
  },
  {
   "cell_type": "markdown",
   "id": "20000a84",
   "metadata": {},
   "source": [
    "### Listing Jobs"
   ]
  },
  {
   "cell_type": "code",
   "execution_count": null,
   "id": "5d613398",
   "metadata": {},
   "outputs": [],
   "source": [
    "jobs = bc.list_jobs()\n",
    "print(len(jobs))"
   ]
  },
  {
   "cell_type": "code",
   "execution_count": null,
   "id": "52115ac4",
   "metadata": {},
   "outputs": [],
   "source": [
    "jobs = bc.list_jobs(all_users=True)\n",
    "print(len(jobs))"
   ]
  },
  {
   "cell_type": "code",
   "execution_count": null,
   "id": "b7d0daa7",
   "metadata": {},
   "outputs": [],
   "source": [
    "done_jobs = bc.list_jobs(all_users=True, status_list=[\"FAILED\", \"FINISHED_SUCCESS\"])\n",
    "print(len(done_jobs))\n",
    "print(done_jobs[0][\"id\"])"
   ]
  },
  {
   "cell_type": "code",
   "execution_count": null,
   "id": "6e2a3c1e",
   "metadata": {},
   "outputs": [],
   "source": [
    "recent_jobs = bc.list_jobs(all_users=True, start_time=\"Oct 12\")\n",
    "print(len(recent_jobs))\n",
    "print(recent_jobs)"
   ]
  },
  {
   "cell_type": "markdown",
   "id": "748f417f",
   "metadata": {},
   "source": [
    "### Running Jobs"
   ]
  },
  {
   "cell_type": "code",
   "execution_count": null,
   "id": "817c6171",
   "metadata": {},
   "outputs": [],
   "source": [
    "new_job = bc.run_job(\n",
    "    name=\"Demo Job\",\n",
    "    container_image=\"nvidia/alpine-0.0.0.0.1.0.0:latest\",\n",
    "    result_mountpoint=\"/result\",\n",
    "    ace=\"ceph-sjc-4-dev\",\n",
    "    instance_type=\"dgx1v.16g.8.norm\",\n",
    ")\n",
    "print(new_job[\"id\"])\n",
    "print(new_job[\"jobDefinition\"][\"name\"])"
   ]
  },
  {
   "cell_type": "code",
   "execution_count": null,
   "id": "aa427af6",
   "metadata": {},
   "outputs": [],
   "source": [
    "bc.info()"
   ]
  },
  {
   "cell_type": "code",
   "execution_count": null,
   "id": "170d2a01",
   "metadata": {},
   "outputs": [],
   "source": [
    "js = bc.get_json_for_job()\n",
    "print(js)"
   ]
  },
  {
   "cell_type": "code",
   "execution_count": null,
   "id": "c8b6061b",
   "metadata": {},
   "outputs": [],
   "source": [
    "bc.kill_job()"
   ]
  },
  {
   "cell_type": "markdown",
   "id": "d39c8378",
   "metadata": {},
   "source": [
    "### Telemetry"
   ]
  },
  {
   "cell_type": "code",
   "execution_count": null,
   "id": "1574044d",
   "metadata": {},
   "outputs": [],
   "source": [
    "telem = bc.job_telemetry()\n",
    "pprint(telem)"
   ]
  },
  {
   "cell_type": "code",
   "execution_count": null,
   "id": "f0601cfe",
   "metadata": {
    "collapsed": true
   },
   "outputs": [],
   "source": []
  },
  {
   "cell_type": "code",
   "execution_count": 5,
   "id": "0110abd0",
   "metadata": {},
   "outputs": [
    {
     "name": "stdout",
     "output_type": "stream",
     "text": [
      "dict_keys(['api', 'disk', 'docker', 'memory', 'os', 'proxies', 'python_version', 'sdk_version', 'user', 'workspace_mounts'])\n"
     ]
    }
   ],
   "source": [
    "diag = ngcsdk.run_diagnostics()\n",
    "print(diag.keys())"
   ]
  }
 ],
 "metadata": {
  "kernelspec": {
   "display_name": "Python 3 (ipykernel)",
   "language": "python",
   "name": "python3"
  },
  "language_info": {
   "codemirror_mode": {
    "name": "ipython",
    "version": 3
   },
   "file_extension": ".py",
   "mimetype": "text/x-python",
   "name": "python",
   "nbconvert_exporter": "python",
   "pygments_lexer": "ipython3",
   "version": "3.9.5"
  }
 },
 "nbformat": 4,
 "nbformat_minor": 5
}
