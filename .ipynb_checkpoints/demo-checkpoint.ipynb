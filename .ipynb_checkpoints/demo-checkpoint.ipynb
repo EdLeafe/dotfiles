{
 "cells": [
  {
   "cell_type": "markdown",
   "id": "2ac13ad3",
   "metadata": {},
   "source": [
    "### -------------  API Client  ------------------------------"
   ]
  },
  {
   "cell_type": "code",
   "execution_count": 1,
   "id": "17d4cbf5",
   "metadata": {},
   "outputs": [
    {
     "name": "stdout",
     "output_type": "stream",
     "text": [
      "[<ngcsdk.ace.Ace object at 0x106511580>,\n",
      " <ngcsdk.batch.Batch object at 0x1065115e0>,\n",
      " <ngcsdk.chart.Chart object at 0x106e6e370>,\n",
      " <ngcsdk.collection.Collection object at 0x106e6ea90>,\n",
      " <ngcsdk.dataset.Dataset object at 0x1051646a0>,\n",
      " <ngcsdk.image.Image object at 0x106e6e2e0>,\n",
      " <ngcsdk.labelset.LabelSet object at 0x106e6fe50>,\n",
      " <ngcsdk.model.Model object at 0x106e6fb80>,\n",
      " <ngcsdk.organization.Organization object at 0x106e6f520>,\n",
      " <ngcsdk.resource.Resource object at 0x106e6f700>,\n",
      " <ngcsdk.result.Result object at 0x106e6f040>,\n",
      " <ngcsdk.team.Team object at 0x106e6f640>,\n",
      " <ngcsdk.user.User object at 0x106e6f1f0>,\n",
      " <ngcsdk.workspace.Workspace object at 0x106e6fac0>]\n"
     ]
    }
   ],
   "source": [
    "from pprint import pprint\n",
    "import ngcsdk\n",
    "client = ngcsdk.create_client()\n",
    "pprint(client.sub_entities)"
   ]
  },
  {
   "cell_type": "markdown",
   "id": "8c49aedd",
   "metadata": {},
   "source": [
    "### ---------------  Paging  ----------------------------"
   ]
  },
  {
   "cell_type": "code",
   "execution_count": 2,
   "id": "aa3e30a7",
   "metadata": {},
   "outputs": [
    {
     "name": "stdout",
     "output_type": "stream",
     "text": [
      "100\n"
     ]
    }
   ],
   "source": [
    "models = client.model.list()\n",
    "print(len(models))"
   ]
  },
  {
   "cell_type": "code",
   "execution_count": 3,
   "id": "e6511a7a",
   "metadata": {},
   "outputs": [
    {
     "name": "stdout",
     "output_type": "stream",
     "text": [
      "{'page': 0, 'page_size': 100, 'total': 519, 'page_total': 6}\n"
     ]
    }
   ],
   "source": [
    "pg_info, models = client.model.list(include_page_info=True)\n",
    "print(pg_info)"
   ]
  },
  {
   "cell_type": "code",
   "execution_count": 8,
   "id": "5a1888bb",
   "metadata": {},
   "outputs": [
    {
     "name": "stdout",
     "output_type": "stream",
     "text": [
      "<generator object ListEntity._list_gen at 0x106ed2f90>\n"
     ]
    }
   ],
   "source": [
    "models = client.model.list(page_size=77)\n",
    "print(models)"
   ]
  },
  {
   "cell_type": "code",
   "execution_count": 7,
   "id": "76acdbce",
   "metadata": {},
   "outputs": [
    {
     "name": "stdout",
     "output_type": "stream",
     "text": [
      "129\n",
      "129\n",
      "129\n",
      "129\n",
      "3\n"
     ]
    }
   ],
   "source": [
    "for pg in models:\n",
    "    print(len(pg))"
   ]
  },
  {
   "cell_type": "markdown",
   "id": "b40f73f8",
   "metadata": {},
   "source": [
    "### -------------  Search  ------------------------------"
   ]
  },
  {
   "cell_type": "code",
   "execution_count": 9,
   "id": "696755d0",
   "metadata": {},
   "outputs": [
    {
     "name": "stdout",
     "output_type": "stream",
     "text": [
      "100\n"
     ]
    }
   ],
   "source": [
    "images = client.image.search(\"test\")\n",
    "print(len(images))"
   ]
  },
  {
   "cell_type": "code",
   "execution_count": 15,
   "id": "d23be691",
   "metadata": {},
   "outputs": [
    {
     "name": "stdout",
     "output_type": "stream",
     "text": [
      "169\n"
     ]
    }
   ],
   "source": [
    "images = client.image.search(\"test\", return_all=True)\n",
    "print(len(images))"
   ]
  },
  {
   "cell_type": "code",
   "execution_count": 16,
   "id": "bad2ee05",
   "metadata": {
    "scrolled": true
   },
   "outputs": [
    {
     "name": "stdout",
     "output_type": "stream",
     "text": [
      "{'attributes': [{'key': 'latestTag', 'value': '705'},\n",
      "                {'key': 'latestTagPushedDate',\n",
      "                 'value': '2017-09-07 03:03:55.0'},\n",
      "                {'key': 'logo',\n",
      "                 'value': 'https://upload.wikimedia.org/wikipedia/en/a/a9/Example.jpg'},\n",
      "                {'key': 'size', 'value': '196948071'}],\n",
      " 'createdBy': 'stg-vtc9v1c08m8i6q9mlm9va49hc5',\n",
      " 'dateCreated': '2017-09-07T10:03:55.000Z',\n",
      " 'dateModified': '2017-09-07T10:03:55.000Z',\n",
      " 'description': 'Please add no description',\n",
      " 'displayName': 'ceph_test',\n",
      " 'name': 'ceph_test',\n",
      " 'orgName': 'nvidia',\n",
      " 'resourceId': 'nvidia/ceph_test',\n",
      " 'resourceType': 'CONTAINER',\n",
      " 'sharedWithOrgs': ['nvidia'],\n",
      " 'sharedWithTeams': []}\n"
     ]
    }
   ],
   "source": [
    "pprint(images[0])"
   ]
  },
  {
   "cell_type": "code",
   "execution_count": 21,
   "id": "1fa8b3e2",
   "metadata": {},
   "outputs": [
    {
     "name": "stdout",
     "output_type": "stream",
     "text": [
      "None   ||||    nvidia/testdemo/alpine\n",
      "None   ||||    nvidia/testdemo/busybox\n",
      "None   ||||    nvidia/team_name/ceph-test\n",
      "None   ||||    nvidia/test-big-image/cuda\n",
      "None   ||||    nvidia/svctdcsqa/docker-pull-test\n",
      "None   ||||    nvidia/gregtest/python\n",
      "None   ||||    nvidia/tensorflow-test\n",
      "None   ||||    nvidia/test-big-image/tensorrt\n",
      "11-13-20-test-a   ||||    nvidia/my_cool_team/111320testa\n",
      "AA Container   ||||    nvidia/test_container_a\n",
      "acorwin-test   ||||    nvidia/acorwin-test\n",
      "bc-test-ngss   ||||    nvidia/todds_team/bc-test-ngss\n",
      "benson-test-2   ||||    nvidia/benson-test-2\n",
      "benson-test-long-32-character-name   ||||    nvidia/benson-test\n",
      "busybox   ||||    nvidia/busybox-form-testing\n",
      "busybox   ||||    nvidia/busybox-published_night_mr_test\n",
      "busyboxtest   ||||    nvidia/busyboxtest\n",
      "cas-k8-test   ||||    nvidia/my_cool_team/cas-k8-test\n",
      "ceph_test   ||||    nvidia/ceph_test\n",
      "Container App 2.0   ||||    nvidia/test_container_publish_with_app_2\n",
      "container-perf-tests   ||||    nvidia/ngc-cloud/container-perf-tests\n",
      "dcgmproftester   ||||    nvidia/dcgmproftester\n",
      "digitsstestsdfhklasdhfhflkshfkjlsahfklahsfkjlhasfkadsnasdasldjss   ||||    nvidia/digits-test\n",
      "E2E Test Repository 100202   ||||    nvidia/cim/test_repo_100202\n",
      "E2E Test Repository 10427   ||||    nvidia/cim/test_repo_10427\n",
      "E2E Test Repository 125510   ||||    nvidia/cim/test_repo_125510\n",
      "E2E Test Repository 134053   ||||    nvidia/cim/test_repo_134053\n",
      "E2E Test Repository 135334   ||||    nvidia/cim/test_repo_135334\n",
      "E2E Test Repository 140658   ||||    nvidia/cim/test_repo_140658\n",
      "E2E Test Repository 147382   ||||    nvidia/cim/test_repo_147382\n",
      "E2E Test Repository 15563   ||||    nvidia/cim/test_repo_15563\n",
      "E2E Test Repository 190090   ||||    nvidia/cim/test_repo_190090\n",
      "E2E Test Repository 195003   ||||    nvidia/cim/test_repo_195003\n",
      "E2E Test Repository 195793   ||||    nvidia/cim/test_repo_195793\n",
      "E2E Test Repository 212527   ||||    nvidia/cim/test_repo_212527\n",
      "E2E Test Repository 219032   ||||    nvidia/cim/test_repo_219032\n",
      "E2E Test Repository 2341   ||||    nvidia/cim/test_repo_13375\n",
      "E2E Test Repository 24866   ||||    nvidia/cim/test_repo_24866\n",
      "E2E Test Repository 251451   ||||    nvidia/cim/test_repo_251451\n",
      "E2E Test Repository 253771   ||||    nvidia/cim/test_repo_253771\n",
      "E2E Test Repository 257016   ||||    nvidia/cim/test_repo_257016\n",
      "E2E Test Repository 268427   ||||    nvidia/cim/test_repo_268427\n",
      "E2E Test Repository 304511   ||||    nvidia/cim/test_repo_304511\n",
      "E2E Test Repository 305390   ||||    nvidia/cim/test_repo_305390\n",
      "E2E Test Repository 32520   ||||    nvidia/cim/test_repo_32520\n",
      "E2E Test Repository 332278   ||||    nvidia/cim/test_repo_332278\n",
      "E2E Test Repository 347089   ||||    nvidia/cim/test_repo_347089\n",
      "E2E Test Repository 349941   ||||    nvidia/cim/test_repo_349941\n",
      "E2E Test Repository 387321   ||||    nvidia/cim/test_repo_387321\n",
      "E2E Test Repository 392902   ||||    nvidia/cim/test_repo_392902\n",
      "E2E Test Repository 398294   ||||    nvidia/cim/test_repo_398294\n",
      "E2E Test Repository 400270   ||||    nvidia/cim/test_repo_400270\n",
      "E2E Test Repository 410279   ||||    nvidia/cim/test_repo_410279\n",
      "E2E Test Repository 410448   ||||    nvidia/cim/test_repo_410448\n",
      "E2E Test Repository 421210   ||||    nvidia/cim/test_repo_421210\n",
      "E2E Test Repository 428653   ||||    nvidia/cim/test_repo_428653\n",
      "E2E Test Repository 431793   ||||    nvidia/cim/test_repo_431793\n",
      "E2E Test Repository 434656   ||||    nvidia/cim/test_repo_434656\n",
      "E2E Test Repository 464631   ||||    nvidia/cim/test_repo_464631\n",
      "E2E Test Repository 488600   ||||    nvidia/cim/test_repo_488600\n",
      "E2E Test Repository 491119   ||||    nvidia/cim/test_repo_491119\n",
      "E2E Test Repository 497014   ||||    nvidia/cim/test_repo_497014\n",
      "E2E Test Repository 509871   ||||    nvidia/cim/test_repo_509871\n",
      "E2E Test Repository 542408   ||||    nvidia/cim/test_repo_542408\n",
      "E2E Test Repository 563861   ||||    nvidia/cim/test_repo_563861\n",
      "E2E Test Repository 565067   ||||    nvidia/cim/test_repo_565067\n",
      "E2E Test Repository 572155   ||||    nvidia/cim/test_repo_572155\n",
      "E2E Test Repository 576051   ||||    nvidia/cim/test_repo_576051\n",
      "E2E Test Repository 581551   ||||    nvidia/cim/test_repo_581551\n",
      "E2E Test Repository 610865   ||||    nvidia/cim/test_repo_610865\n",
      "E2E Test Repository 615047   ||||    nvidia/cim/test_repo_615047\n",
      "E2E Test Repository 616163   ||||    nvidia/cim/test_repo_616163\n",
      "E2E Test Repository 617332   ||||    nvidia/cim/test_repo_617332\n",
      "E2E Test Repository 621222   ||||    nvidia/cim/test_repo_621222\n",
      "E2E Test Repository 644490   ||||    nvidia/cim/test_repo_644490\n",
      "E2E Test Repository 65089   ||||    nvidia/cim/test_repo_65089\n",
      "E2E Test Repository 652569   ||||    nvidia/cim/test_repo_652569\n",
      "E2E Test Repository 652804   ||||    nvidia/cim/test_repo_652804\n",
      "E2E Test Repository 680805   ||||    nvidia/cim/test_repo_680805\n",
      "E2E Test Repository 684481   ||||    nvidia/cim/test_repo_684481\n",
      "E2E Test Repository 707317   ||||    nvidia/cim/test_repo_707317\n",
      "E2E Test Repository 716396   ||||    nvidia/cim/test_repo_716396\n",
      "E2E Test Repository 71956   ||||    nvidia/cim/test_repo_71956\n",
      "E2E Test Repository 766239   ||||    nvidia/cim/test_repo_766239\n",
      "E2E Test Repository 778481   ||||    nvidia/cim/test_repo_778481\n",
      "E2E Test Repository 788223   ||||    nvidia/cim/test_repo_788223\n",
      "E2E Test Repository 789366   ||||    nvidia/cim/test_repo_789366\n",
      "E2E Test Repository 790021   ||||    nvidia/cim/test_repo_790021\n",
      "E2E Test Repository 825542   ||||    nvidia/cim/test_repo_825542\n",
      "E2E Test Repository 826699   ||||    nvidia/cim/test_repo_826699\n",
      "E2E Test Repository 833323   ||||    nvidia/cim/test_repo_833323\n",
      "E2E Test Repository 909091   ||||    nvidia/cim/test_repo_909091\n",
      "E2E Test Repository 909177   ||||    nvidia/cim/test_repo_909177\n",
      "E2E Test Repository 91584   ||||    nvidia/cim/test_repo_91584\n",
      "E2E Test Repository 91750   ||||    nvidia/cim/test_repo_91750\n",
      "E2E Test Repository 932412   ||||    nvidia/cim/test_repo_932412\n",
      "E2E Test Repository 970610   ||||    nvidia/cim/test_repo_970610\n",
      "E2E Test Repository 973388   ||||    nvidia/cim/test_repo_973388\n",
      "E2E Test Repository 99004   ||||    nvidia/cim/test_repo_99004\n",
      "Eleven Three Test Container   ||||    nvidia/11-3-test-container\n",
      "greg test container   ||||    nvidia/greg_test_container\n",
      "Label Container Test   ||||    nvidia/label-container-test\n",
      "Labels Test   ||||    nvidia/test_team_a/label-container-test\n",
      "layout-manager-tester   ||||    nvidia/a7/layout-manager-tester\n",
      "mn-nccl-test   ||||    nvidia/mn-nccl-test\n",
      "mn-sc-test   ||||    nvidia/mn-sc-test\n",
      "model-perf-tests   ||||    nvidia/ngc-cloud/model-perf-tests\n",
      "monika_test2_tensorflow   ||||    nvidia/ngc-product-team/monika_test2_tensorflow\n",
      "multiarch-test   ||||    nvidia/multiarch-test\n",
      "multinode_nccl_tests   ||||    nvidia/mk/multinode_nccl_tests\n",
      "my_test_image   ||||    nvidia/my_test_image\n",
      "nccl-test   ||||    nvidia/nccl-test\n",
      "nccl-tests   ||||    nvidia/nccl-tests\n",
      "proxy_test   ||||    nvidia/proxy_test\n",
      "Resource ABC LEL   ||||    nvidia/test_team_a/resource_abc\n",
      "ryans_test_container   ||||    nvidia/ryans_test_container\n",
      "sc-test   ||||    nvidia/sc-test\n",
      "Scanning Test by Daler   ||||    nvidia/daler_scanning_test\n",
      "Something   ||||    nvidia/testingimage\n",
      "stgtensorflowtest   ||||    nvidia/stgtensorflowtest\n",
      "stg_nvcr_io_nvidia_test-pgs   ||||    nvidia/stg_nvcr_io_nvidia_test-pgs\n",
      "test   ||||    nvidia/ngc_product_test\n",
      "test a 11 30 20   ||||    nvidia/test-a-11-30-20\n",
      "test container   ||||    nvidia/test\n",
      "Test Container #3   ||||    nvidia/test_team_a/testing\n",
      "Test Container Publish V2   ||||    nvidia/test_team_a/test_container_publish_v2\n",
      "Test Display Name Yo   ||||    nvidia/cim/test_repo_159428\n",
      "test-big-image   ||||    nvidia/test-big-image\n",
      "test-centriac-aerial   ||||    nvidia/ngc-cloud/test-centriac-aerial\n",
      "test-centric-logos   ||||    nvidia/ngc-cloud/test-centric-logos\n",
      "test-lbl   ||||    nvidia/todds_team/test-lbl\n",
      "test-pgs   ||||    nvidia/test-pgs\n",
      "test-push   ||||    nvidia/todds_team/test-push\n",
      "test-repo   ||||    nvidia/my_cool_team/test-repo\n",
      "test-sm-img   ||||    nvidia/test-sm-img\n",
      "test-sm-img   ||||    nvidia/test-perm-team/test-sm-img\n",
      "test-sm-img   ||||    nvidia/team_feather/test-sm-img\n",
      "test-sm-img   ||||    nvidia/todds_team/test-sm-img\n",
      "test-team   ||||    nvidia/bc-test-1/test-team\n",
      "Testing   ||||    nvidia/todds_team/test\n",
      "Testing container creation   ||||    nvidia/todds_team/container_to_test\n",
      "testing container labels   ||||    nvidia/todds_team/testing-containerlabels\n",
      "testingnewimage   ||||    nvidia/testingnewimage\n",
      "testingschema   ||||    nvidia/containertest121\n",
      "test_a   ||||    nvidia/no_webhooks/test_a\n",
      "test_container_z   ||||    nvidia/test_container_z\n",
      "test_nginx   ||||    nvidia/ngc-product-team/test_nginx\n",
      "test_repo   ||||    nvidia/test_repo\n",
      "test_repo_100751   ||||    nvidia/cim/test_repo_100751\n",
      "test_repo_113524s   ||||    nvidia/cim/test_repo_113524\n",
      "test_repo_240182   ||||    nvidia/cim/test_repo_240182\n",
      "test_repo_276325   ||||    nvidia/cim/test_repo_276325\n",
      "test_repo_292666   ||||    nvidia/cim/test_repo_292666\n",
      "test_repo_332354   ||||    nvidia/cim/test_repo_332354\n",
      "test_repo_359733   ||||    nvidia/cim/test_repo_359733\n",
      "test_repo_367919   ||||    nvidia/cim/test_repo_367919\n",
      "test_repo_389784   ||||    nvidia/cim/test_repo_389784\n",
      "test_repo_421180   ||||    nvidia/cim/test_repo_421180\n",
      "test_repo_441035   ||||    nvidia/cim/test_repo_441035\n",
      "test_repo_549390   ||||    nvidia/cim/test_repo_549390\n",
      "test_repo_582221   ||||    nvidia/cim/test_repo_582221\n",
      "test_repo_720436   ||||    nvidia/cim/test_repo_720436\n",
      "test_repo_824756   ||||    nvidia/cim/test_repo_824756\n",
      "test_repo_845926   ||||    nvidia/cim/test_repo_845926\n",
      "test_repo_896801   ||||    nvidia/cim/test_repo_896801\n",
      "test_repo_91000   ||||    nvidia/cim/test_repo_91000\n",
      "test_repo_958531   ||||    nvidia/cim/test_repo_958531\n",
      "twhaples-webui-test   ||||    nvidia/twhaples-webui-test\n",
      "web-app-k8-test   ||||    nvidia/my_cool_team/web-app-k8-test\n"
     ]
    }
   ],
   "source": [
    "keyfield = \"displayName\"\n",
    "images.sort(key=lambda x: x.get(keyfield, \"\").upper())\n",
    "\n",
    "for img in images:\n",
    "    print(img.get(keyfield), \"  ||||   \", img.get(\"resourceId\"))"
   ]
  },
  {
   "cell_type": "code",
   "execution_count": 22,
   "id": "c608bd97",
   "metadata": {},
   "outputs": [
    {
     "name": "stdout",
     "output_type": "stream",
     "text": [
      "{'canGuestPull': False,\n",
      " 'description': 'Please add description',\n",
      " 'displayName': 'Something',\n",
      " 'isMultiArchitecture': False,\n",
      " 'isMultinodeEnabled': False,\n",
      " 'isPublic': False,\n",
      " 'isReadOnly': False,\n",
      " 'latestArchitectureVariants': [],\n",
      " 'latestImageSize': 763789,\n",
      " 'latestTag': 'latest',\n",
      " 'manualScanEnabled': True,\n",
      " 'name': 'testingimage',\n",
      " 'namespace': 'nvidia',\n",
      " 'scanEnabled': True,\n",
      " 'sharedWithOrgs': ['nvidia'],\n",
      " 'shortDescription': 'Empty',\n",
      " 'showScanResults': True,\n",
      " 'systemLabels': [],\n",
      " 'tags': ['latest'],\n",
      " 'updatedDate': '2020-08-04T20:32:16.066Z'}\n"
     ]
    }
   ],
   "source": [
    "img = client.image.get(\"nvidia/testingimage\")\n",
    "pprint(img)"
   ]
  },
  {
   "cell_type": "code",
   "execution_count": 26,
   "id": "2259f829",
   "metadata": {},
   "outputs": [
    {
     "name": "stdout",
     "output_type": "stream",
     "text": [
      "New Demo Description\n"
     ]
    },
    {
     "data": {
      "text/plain": [
       "{'statusCode': 'SUCCESS', 'requestId': '299e4908-9882-4aa0-b368-e713019affcf'}"
      ]
     },
     "execution_count": 26,
     "metadata": {},
     "output_type": "execute_result"
    }
   ],
   "source": [
    "print(img[\"shortDescription\"])\n",
    "client.image.update(\"nvidia/testingimage\", description=\"Nothing Here\")"
   ]
  },
  {
   "cell_type": "code",
   "execution_count": 27,
   "id": "caa52062",
   "metadata": {},
   "outputs": [
    {
     "name": "stdout",
     "output_type": "stream",
     "text": [
      "Nothing Here\n"
     ]
    }
   ],
   "source": [
    "img = client.image.get(\"nvidia/testingimage\")\n",
    "print(img[\"shortDescription\"])"
   ]
  },
  {
   "cell_type": "markdown",
   "id": "818999e9",
   "metadata": {},
   "source": [
    "### -------------  Push / Pull  ------------------------------"
   ]
  },
  {
   "cell_type": "code",
   "execution_count": 28,
   "id": "6b3a1aca",
   "metadata": {},
   "outputs": [
    {
     "name": "stdout",
     "output_type": "stream",
     "text": [
      "None\n"
     ]
    }
   ],
   "source": [
    "img = client.image.get(\"nvidia/edranger\")\n",
    "print(img)"
   ]
  },
  {
   "cell_type": "code",
   "execution_count": 29,
   "id": "cefcdcab",
   "metadata": {},
   "outputs": [
    {
     "name": "stdout",
     "output_type": "stream",
     "text": [
      "True\n"
     ]
    }
   ],
   "source": [
    "result = client.image.push(\"nvidia/edranger\", version=\"1.0\", built_by=\"me\", description=\"Demo Image\",\n",
    "    logo=\"https://leafe.com/static/maple_leaf_large.png\")\n",
    "print(result)"
   ]
  },
  {
   "cell_type": "code",
   "execution_count": 30,
   "id": "7b21e446",
   "metadata": {},
   "outputs": [
    {
     "name": "stdout",
     "output_type": "stream",
     "text": [
      "True\n"
     ]
    }
   ],
   "source": [
    "result = client.image.push(\"nvidia/edranger\", version=\"2.0\")\n",
    "print(result)"
   ]
  },
  {
   "cell_type": "code",
   "execution_count": null,
   "id": "f0a486d2",
   "metadata": {},
   "outputs": [],
   "source": [
    "client.image.update(\"nvidia/edranger\", built_by=\"you\")"
   ]
  },
  {
   "cell_type": "code",
   "execution_count": null,
   "id": "81325198",
   "metadata": {},
   "outputs": [],
   "source": [
    "result = client.image.pull(\"nvidia/edranger\", version=\"1.0\")\n",
    "print(result)"
   ]
  },
  {
   "cell_type": "code",
   "execution_count": null,
   "id": "7594b751",
   "metadata": {},
   "outputs": [],
   "source": [
    "client.image.update(\"nvidia/edranger\", built_by=\"you\")"
   ]
  },
  {
   "cell_type": "code",
   "execution_count": null,
   "id": "4851fb11",
   "metadata": {},
   "outputs": [],
   "source": [
    "client.image.delete_version(\"nvidia/edranger\", version=\"1.0\")"
   ]
  },
  {
   "cell_type": "code",
   "execution_count": null,
   "id": "8f97f87c",
   "metadata": {},
   "outputs": [],
   "source": [
    "client.image.delete(\"nvidia/edranger\")"
   ]
  },
  {
   "cell_type": "markdown",
   "id": "5e324c55",
   "metadata": {},
   "source": [
    "### -------------  Objects  ------------------------------"
   ]
  },
  {
   "cell_type": "code",
   "execution_count": null,
   "id": "43b1ef35",
   "metadata": {},
   "outputs": [],
   "source": [
    "from ngcsdk.utils import Record"
   ]
  },
  {
   "cell_type": "code",
   "execution_count": null,
   "id": "ce6cf90d",
   "metadata": {},
   "outputs": [],
   "source": [
    "chart = client.chart.get(\"nvidia/sdk_chart\")\n",
    "pprint(chart)"
   ]
  },
  {
   "cell_type": "code",
   "execution_count": null,
   "id": "565d65ef",
   "metadata": {},
   "outputs": [],
   "source": [
    "rec = Record(chart)\n",
    "print(rec)"
   ]
  },
  {
   "cell_type": "code",
   "execution_count": null,
   "id": "9913d64a",
   "metadata": {},
   "outputs": [],
   "source": [
    "print(chart[\"shortDescription\"] == rec.short_description)"
   ]
  },
  {
   "cell_type": "code",
   "execution_count": null,
   "id": "ca31335e",
   "metadata": {},
   "outputs": [],
   "source": [
    "pprint(rec.diff_dict())\n",
    "pprint(f\"Publisher: {rec.publisher}, Display Name: {rec.display_name}\")"
   ]
  },
  {
   "cell_type": "code",
   "execution_count": null,
   "id": "2e2f30c3",
   "metadata": {},
   "outputs": [],
   "source": [
    "rec.publisher = \"pubbbbbbbbb\"\n",
    "rec.display_name = \"SDK Test Chart\"\n",
    "\n",
    "pprint(f\"Orig. Diff: {rec.diff_dict()}\")\n",
    "pprint(f\"Publisher: {rec.publisher}, Display Name: {rec.display_name}\")\n",
    "print()\n",
    "pprint(f\"New Diff: {rec.diff_dict()}\")\n",
    "\n"
   ]
  }
 ],
 "metadata": {
  "kernelspec": {
   "display_name": "Python 3 (ipykernel)",
   "language": "python",
   "name": "python3"
  },
  "language_info": {
   "codemirror_mode": {
    "name": "ipython",
    "version": 3
   },
   "file_extension": ".py",
   "mimetype": "text/x-python",
   "name": "python",
   "nbconvert_exporter": "python",
   "pygments_lexer": "ipython3",
   "version": "3.9.5"
  }
 },
 "nbformat": 4,
 "nbformat_minor": 5
}
